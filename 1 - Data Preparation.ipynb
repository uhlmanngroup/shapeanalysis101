{
 "cells": [
  {
   "cell_type": "markdown",
   "id": "32d86b6f",
   "metadata": {},
   "source": [
    "## Part 1: Data preparation"
   ]
  },
  {
   "cell_type": "markdown",
   "id": "b5bd6ca7",
   "metadata": {},
   "source": [
    "In this notebook, we will learn how to extract different kind of object models from images, and how to prepare them for subsequent shape analysis."
   ]
  },
  {
   "cell_type": "code",
   "execution_count": null,
   "id": "05398dbe",
   "metadata": {},
   "outputs": [],
   "source": [
    "import os\n",
    "import numpy as np\n",
    "import imageio\n",
    "import h5py\n",
    "import matplotlib.pyplot as plt\n",
    "import copy\n",
    "from spline_models.spline_curve_model import B3_spline_curve"
   ]
  },
  {
   "cell_type": "code",
   "execution_count": null,
   "id": "ac0cfdc0",
   "metadata": {},
   "outputs": [],
   "source": [
    "plt.rcParams['figure.dpi'] = 200"
   ]
  },
  {
   "cell_type": "markdown",
   "id": "c83f4f1e",
   "metadata": {},
   "source": [
    "### 0. Contour extraction"
   ]
  },
  {
   "cell_type": "markdown",
   "id": "dc843705",
   "metadata": {},
   "source": [
    "In the exercises, we will be using two image sets:"
   ]
  },
  {
   "cell_type": "markdown",
   "id": "69ba7796",
   "metadata": {},
   "source": [
    "- A dataset of brightfield microscopy images of a C. elegans live/dead assay from https://bbbc.broadinstitute.org/BBBC010"
   ]
  },
  {
   "cell_type": "code",
   "execution_count": null,
   "id": "797fd2ce",
   "metadata": {},
   "outputs": [],
   "source": [
    "# Visualize a sample of the data by running the lines below\n",
    "live_worms = imageio.imread('data/C. elegans/1649_1109_0003_Amp5-1_B_20070424_B07_w2_F3BB43AA-D215-44C1-B2FD-A89741699E5F.tif')\n",
    "dead_worms = imageio.imread('data/C. elegans/1649_1109_0003_Amp5-1_B_20070424_A23_w2_71C5704E-F745-4D29-B3B2-51216C02A45D.tif')\n",
    "\n",
    "fig, ax = plt.subplots(1, 2)\n",
    "ax[0].imshow(live_worms, cmap='gray')\n",
    "ax[0].axis('off')\n",
    "ax[0].set_title('Live C. elegans')\n",
    "\n",
    "ax[1].imshow(dead_worms, cmap='gray')\n",
    "ax[1].axis('off')\n",
    "ax[1].set_title('Dead C. elegans')\n",
    "\n",
    "plt.show()"
   ]
  },
  {
   "cell_type": "markdown",
   "id": "08550532",
   "metadata": {},
   "source": [
    "- A dataset of fluorescence microscopy images of wild-type (LMNA++) and lamin-deficient (LMNA--) mouse embryonic fibroblasts (MEF) from https://github.com/kukionfr/Micropattern_MEF_LMNA_Image"
   ]
  },
  {
   "cell_type": "code",
   "execution_count": null,
   "id": "98214105",
   "metadata": {},
   "outputs": [],
   "source": [
    "# Visualize a sample of the data by running the lines below\n",
    "wt_cell = imageio.imread('data/MEF_LMNA/wildtype/raw_images/xy001c1.tif')\n",
    "wt_nuc = imageio.imread('data/MEF_LMNA/wildtype/raw_images/xy001c2.tif')\n",
    "lmna_cell = imageio.imread('data/MEF_LMNA/lmna_deficient/raw_images/xy001c1.tif')\n",
    "lmna_nuc = imageio.imread('data/MEF_LMNA/lmna_deficient/raw_images/xy001c2.tif')\n",
    "\n",
    "fig, ax = plt.subplots(1, 2)\n",
    "ax[0].imshow(wt_cell, cmap='Greens')\n",
    "ax[0].imshow(wt_nuc, cmap='Reds', alpha=0.5)\n",
    "ax[0].axis('off')\n",
    "ax[0].set_title('Wild-type')\n",
    "\n",
    "ax[1].imshow(lmna_cell, cmap='Greens')\n",
    "ax[1].imshow(lmna_nuc, cmap='Reds', alpha=0.5)\n",
    "ax[1].axis('off')\n",
    "ax[1].set_title('Lamin deficient')\n",
    "\n",
    "plt.show()"
   ]
  },
  {
   "cell_type": "markdown",
   "id": "ff7d4b8e",
   "metadata": {},
   "source": [
    "**0.1** Load a sample segmentation masks for each datasets with the lines below. \n",
    "\n",
    "Notice that the segmentation masks are provided in two different format that are commonly encountered when dealing with microscopy image sets: binary png images or hdf5 file. Which format do you find the most convenient? Why?"
   ]
  },
  {
   "cell_type": "code",
   "execution_count": null,
   "id": "f92af801",
   "metadata": {},
   "outputs": [],
   "source": [
    "# C. elegans dataset\n",
    "filename_png = 'data/C. elegans/B07_06_ground_truth.png'\n",
    "celegans_mask=imageio.imread(filename_png)"
   ]
  },
  {
   "cell_type": "code",
   "execution_count": null,
   "id": "c9f447ad",
   "metadata": {},
   "outputs": [],
   "source": [
    "# MEF dataset\n",
    "filename_h5 = 'data/MEF_LMNA/xy001c1_instances.h5'\n",
    "with h5py.File(filename_h5, 'r') as h5file:\n",
    "    mef_mask = h5file['exported_data'][:, :, 0]"
   ]
  },
  {
   "cell_type": "markdown",
   "id": "cd381147",
   "metadata": {},
   "source": [
    "**0.2** Visualize the masks from each collection with the lines below. Which immediate difference do you notice between the two segmentation masks? "
   ]
  },
  {
   "cell_type": "code",
   "execution_count": null,
   "id": "e47feb06",
   "metadata": {},
   "outputs": [],
   "source": [
    "# C. elegans dataset\n",
    "plt.imshow(celegans_mask)\n",
    "plt.axis('off')\n",
    "plt.show()"
   ]
  },
  {
   "cell_type": "code",
   "execution_count": null,
   "id": "bb1848c5",
   "metadata": {},
   "outputs": [],
   "source": [
    "# MEF dataset\n",
    "plt.imshow(mef_mask)\n",
    "plt.axis('off')\n",
    "plt.show()"
   ]
  },
  {
   "cell_type": "markdown",
   "id": "0e90bf7f",
   "metadata": {},
   "source": [
    "**0.3 [FOR MLF ONLY]**: retreive the set of contour points of each individual objects in the `mef_mask` image.\n",
    "\n",
    "*Hint: use the `measure.find_contours` function from the `skimage` library. Make sure you read the documentation and understand the inputs that this function needs!*"
   ]
  },
  {
   "cell_type": "code",
   "execution_count": null,
   "id": "a27964ea",
   "metadata": {},
   "outputs": [],
   "source": [
    "from skimage.measure import find_contours"
   ]
  },
  {
   "cell_type": "code",
   "execution_count": null,
   "id": "664a4f8a",
   "metadata": {},
   "outputs": [],
   "source": [
    "# Desired output: mef_contours array containing the contour points of each object in mef_mask\n",
    "# Add your code here!\n",
    "mef_contours = "
   ]
  },
  {
   "cell_type": "markdown",
   "id": "7c080f3e",
   "metadata": {},
   "source": [
    "**0.4 [FOR MLF ONLY]** Run the lines below to visualize the result."
   ]
  },
  {
   "cell_type": "code",
   "execution_count": null,
   "id": "7f2f979d",
   "metadata": {},
   "outputs": [],
   "source": [
    "# Visualize the result \n",
    "fig, ax = plt.subplots(1,len(mef_contours),figsize=(len(mef_contours),1))\n",
    "for i in range(0,len(mef_contours)):\n",
    "    obj=np.array(mef_contours[i])\n",
    "    ax[i].scatter(obj[:,0],obj[:,1],s=.5)\n",
    "    ax[i].axis('off')"
   ]
  },
  {
   "cell_type": "code",
   "execution_count": null,
   "id": "b70d3b1b",
   "metadata": {},
   "outputs": [],
   "source": [
    "# Visualize the result on top of the mask data\n",
    "plt.imshow(mef_mask)\n",
    "for i in range(0,len(mef_contours)):\n",
    "    obj=np.array(mef_contours[i])\n",
    "    plt.scatter(obj[:,1],obj[:,0],s=.5,c='red')\n",
    "plt.axis('off')\n",
    "plt.show()"
   ]
  },
  {
   "cell_type": "markdown",
   "id": "be8e3770",
   "metadata": {},
   "source": [
    "**0.5 [FOR C. elegans ONLY]**: retreive the midline of the worm in `celegans_mask`. In image processing, the midline axis is called \"skeleton\" (https://en.wikipedia.org/wiki/Morphological_skeleton).\n",
    "\n",
    "*Hint: use the `skeletonize` function provided below.*"
   ]
  },
  {
   "cell_type": "code",
   "execution_count": null,
   "id": "3529d791",
   "metadata": {},
   "outputs": [],
   "source": [
    "from skimage.morphology import skeletonize_3d\n",
    "from skimage.measure import label"
   ]
  },
  {
   "cell_type": "code",
   "execution_count": null,
   "id": "16676402",
   "metadata": {},
   "outputs": [],
   "source": [
    "def order(source, points):\n",
    "    ordered=[]\n",
    "    \n",
    "    current=source\n",
    "    while len(points)>0:\n",
    "        dist=[np.linalg.norm(current-points[i]) for i in range(len(points))]\n",
    "        ind_next=np.argmin(dist)\n",
    "        current=copy.deepcopy(points[ind_next])\n",
    "        ordered+=[current]\n",
    "        points=np.delete(points,ind_next,axis=0)\n",
    "    \n",
    "    return np.array(ordered)"
   ]
  },
  {
   "cell_type": "code",
   "execution_count": null,
   "id": "5e07b8a5",
   "metadata": {},
   "outputs": [],
   "source": [
    "def skeletonize(img):\n",
    "    skeletonized=skeletonize_3d(img)\n",
    "    points=np.transpose(np.where(skeletonized>0))\n",
    "\n",
    "    for p in range(len(points)):\n",
    "        x, y = points[p,:]\n",
    "        square=copy.deepcopy(skeletonized[np.max((0,x-1)):np.min((x+2,skeletonized.shape[0])),np.max((0,y-1)):np.min((y+2,skeletonized.shape[1]))])\n",
    "        square[1,1]=0\n",
    "        \n",
    "        source=[]\n",
    "        if np.max(label(square))==1:\n",
    "            source=[x,y]\n",
    "            break\n",
    "        if len(source)<1:\n",
    "            source=points[0]\n",
    "    \n",
    "    return order(source, points)"
   ]
  },
  {
   "cell_type": "code",
   "execution_count": null,
   "id": "2d4b56b1",
   "metadata": {},
   "outputs": [],
   "source": [
    "# Desired output: celegans_contour array containing the contour points of the object in celegans_mask\n",
    "# Add your code here!\n",
    "celegans_contour = "
   ]
  },
  {
   "cell_type": "markdown",
   "id": "ce05f979",
   "metadata": {},
   "source": [
    "**0.6 [FOR C. elegans ONLY]** Run the lines below to visualize the result."
   ]
  },
  {
   "cell_type": "code",
   "execution_count": null,
   "id": "f832fda3",
   "metadata": {},
   "outputs": [],
   "source": [
    "# Visualize the result on top of the mask data\n",
    "plt.scatter(celegans_contour[:,0],celegans_contour[:,1],s=5)\n",
    "plt.show()"
   ]
  },
  {
   "cell_type": "code",
   "execution_count": null,
   "id": "55e8c1ac",
   "metadata": {},
   "outputs": [],
   "source": [
    "# Visualize the result on top of the mask data\n",
    "plt.imshow(celegans_mask)\n",
    "plt.scatter(celegans_contour[:,1],celegans_contour[:,0],s=1,c='red')\n",
    "plt.axis('off')\n",
    "plt.show()"
   ]
  },
  {
   "cell_type": "markdown",
   "id": "ea65d15f",
   "metadata": {},
   "source": [
    "### 1. Discrete (point-based) model"
   ]
  },
  {
   "cell_type": "markdown",
   "id": "cc6a2ccf",
   "metadata": {},
   "source": [
    "**1.1** Pick one of the objects from either of the datasets and extract a set of N equidistant points on it. How small can N be in order for the point-based model to accurately capture the shape of the object? How does it compare to the amount of points the contour was initially composed of?"
   ]
  },
  {
   "cell_type": "code",
   "execution_count": null,
   "id": "e9897112",
   "metadata": {},
   "outputs": [],
   "source": [
    "# Choose an integer value for N\n",
    "N=\n",
    "\n",
    "# Choose whether you want to work with the MEF or C. elegans dataset\n",
    "# MEF\n",
    "#obj=mef_contours[0]\n",
    "#mask_img=mef_mask\n",
    "\n",
    "# C. elegans\n",
    "#obj=celegans_contour\n",
    "#mask_img=celegans_mask"
   ]
  },
  {
   "cell_type": "code",
   "execution_count": null,
   "id": "d0c68a9f",
   "metadata": {},
   "outputs": [],
   "source": [
    "# Desired output: point_model array containing N equidistant points on the object contour\n",
    "# Add your code here!\n",
    "point_model="
   ]
  },
  {
   "cell_type": "markdown",
   "id": "0e5fef24",
   "metadata": {},
   "source": [
    "**1.2** Run the lines below to visualize the result."
   ]
  },
  {
   "cell_type": "code",
   "execution_count": null,
   "id": "fd9f337d",
   "metadata": {},
   "outputs": [],
   "source": [
    "# Visualize the result\n",
    "plt.scatter(point_model[:,0],point_model[:,1],s=10)\n",
    "plt.show()"
   ]
  },
  {
   "cell_type": "code",
   "execution_count": null,
   "id": "ad2484d5",
   "metadata": {},
   "outputs": [],
   "source": [
    "# Visualize the result on top of the mask data\n",
    "plt.imshow(mask_img)\n",
    "plt.scatter(point_model[:,1],point_model[:,0],s=1,c='red')\n",
    "plt.axis('off')\n",
    "plt.show()"
   ]
  },
  {
   "cell_type": "markdown",
   "id": "62fafa2b",
   "metadata": {},
   "source": [
    "### 2. Continuous (spline-based) model"
   ]
  },
  {
   "cell_type": "markdown",
   "id": "a4dce867",
   "metadata": {},
   "source": [
    "**2.1** The lines below create a continuous cubic B-spline model from the N points you sampled in 1.1. \n",
    "\n",
    "Go back to 1.1 and draw a smaller number of N points from the contour. How small can N be in order for the spline-based model to accurately capture the shape of the object? How does it differ from what you observed in 1.1?"
   ]
  },
  {
   "cell_type": "code",
   "execution_count": null,
   "id": "7e6aa3b2",
   "metadata": {},
   "outputs": [],
   "source": [
    "# Adapt the closed_curve flag depending on whether you chose to work with the C. elegans or MEF data in 1.1\n",
    "closed_curve=False \n",
    "spline_model=B3_spline_curve(N, closed_curve)\n",
    "spline_model.get_spline_coefficients(point_model)"
   ]
  },
  {
   "cell_type": "markdown",
   "id": "df87ec2c",
   "metadata": {},
   "source": [
    "**2.2** Run the lines below to visualize the result."
   ]
  },
  {
   "cell_type": "code",
   "execution_count": null,
   "id": "46fdd059",
   "metadata": {},
   "outputs": [],
   "source": [
    "# Since the spline-based model is continuous, one can draw as much points as one wants from it for visualization purpose\n",
    "spline_model_points=spline_model.sample(1000)\n",
    "\n",
    "plt.scatter(spline_model_points[:,0],spline_model_points[:,1],s=1)\n",
    "plt.show()"
   ]
  },
  {
   "cell_type": "code",
   "execution_count": null,
   "id": "6a141979",
   "metadata": {},
   "outputs": [],
   "source": [
    "plt.imshow(mask_img)\n",
    "plt.scatter(spline_model_points[:,1],spline_model_points[:,0],s=1,c='red')\n",
    "plt.axis('off')\n",
    "plt.show()"
   ]
  },
  {
   "cell_type": "code",
   "execution_count": null,
   "id": "3700c572",
   "metadata": {},
   "outputs": [],
   "source": []
  }
 ],
 "metadata": {
  "kernelspec": {
   "display_name": "Python 3",
   "language": "python",
   "name": "python3"
  },
  "language_info": {
   "codemirror_mode": {
    "name": "ipython",
    "version": 3
   },
   "file_extension": ".py",
   "mimetype": "text/x-python",
   "name": "python",
   "nbconvert_exporter": "python",
   "pygments_lexer": "ipython3",
   "version": "3.7.3"
  }
 },
 "nbformat": 4,
 "nbformat_minor": 5
}
